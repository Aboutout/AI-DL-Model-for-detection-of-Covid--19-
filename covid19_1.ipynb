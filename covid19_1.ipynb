{
  "nbformat": 4,
  "nbformat_minor": 0,
  "metadata": {
    "colab": {
      "name": "covid19-1.ipynb",
      "provenance": [],
      "collapsed_sections": []
    },
    "kernelspec": {
      "name": "python3",
      "display_name": "Python 3"
    }
  },
  "cells": [
    {
      "cell_type": "markdown",
      "metadata": {
        "id": "bb-09jR9QQSz",
        "colab_type": "text"
      },
      "source": [
        "# **AI DL Model for detection of Covid -19**\n",
        "\n",
        "---\n",
        "\n"
      ]
    },
    {
      "cell_type": "markdown",
      "metadata": {
        "id": "DlDcU4CryT8H",
        "colab_type": "text"
      },
      "source": [
        "Using Google CoLab platfor for traing of Model. We have saved dataset(after cleaning) at my google dive."
      ]
    },
    {
      "cell_type": "code",
      "metadata": {
        "id": "vI12yLOus-sm",
        "colab_type": "code",
        "outputId": "b3187f59-ae6b-455d-abb4-f59603874dd6",
        "colab": {
          "base_uri": "https://localhost:8080/",
          "height": 179
        }
      },
      "source": [
        "from google.colab import drive\n",
        "drive.mount('/content/drive/')"
      ],
      "execution_count": 0,
      "outputs": [
        {
          "output_type": "stream",
          "text": [
            "Go to this URL in a browser: https://accounts.google.com/o/oauth2/auth?client_id=947318989803-6bn6qk8qdgf4n4g3pfee6491hc0brc4i.apps.googleusercontent.com&redirect_uri=urn%3aietf%3awg%3aoauth%3a2.0%3aoob&response_type=code&scope=email%20https%3a%2f%2fwww.googleapis.com%2fauth%2fdocs.test%20https%3a%2f%2fwww.googleapis.com%2fauth%2fdrive%20https%3a%2f%2fwww.googleapis.com%2fauth%2fdrive.photos.readonly%20https%3a%2f%2fwww.googleapis.com%2fauth%2fpeopleapi.readonly\n",
            "\n",
            "Enter your authorization code:\n",
            "··········\n",
            "Mounted at /content/drive/\n"
          ],
          "name": "stdout"
        }
      ]
    },
    {
      "cell_type": "markdown",
      "metadata": {
        "id": "dJ5zVXv_WNLY",
        "colab_type": "text"
      },
      "source": [
        "**Data Set Information**"
      ]
    },
    {
      "cell_type": "markdown",
      "metadata": {
        "id": "bgMpORsxkp9H",
        "colab_type": "text"
      },
      "source": [
        "1. The COVID-19 Positive X-ray image dataset-\n",
        "  I am taking Covid-19 positive X-ray images from  Dr. Joseph Cohen, a postdoctoral fellow at the University of Montreal. Link- https://github.com/ieee8023/covid-chestxray-dataset\n",
        "\n",
        "2. Healthy(Negative COVID-19) Patients dataset-\n",
        "  I am using Chest X-Ray Images (Pneumonia) from Kaggle.\n",
        "  Link-  https://www.kaggle.com/paultimothymooney/chest-xray-pneumonia"
      ]
    },
    {
      "cell_type": "markdown",
      "metadata": {
        "id": "bN_bP-c9rhX7",
        "colab_type": "text"
      },
      "source": [
        "**Model Information**\n"
      ]
    },
    {
      "cell_type": "markdown",
      "metadata": {
        "id": "7okoPjWqx6_y",
        "colab_type": "text"
      },
      "source": [
        "We have used Keras VGG 19 Model.\n",
        "Link- https://keras.io/applications/#vgg19"
      ]
    },
    {
      "cell_type": "markdown",
      "metadata": {
        "id": "HVr6IR8dyFwB",
        "colab_type": "text"
      },
      "source": [
        "VGG19 model, with weights pre-trained on ImageNet."
      ]
    },
    {
      "cell_type": "markdown",
      "metadata": {
        "id": "Jsh3lwbmyC3S",
        "colab_type": "text"
      },
      "source": [
        "keras.applications.vgg19.VGG19(include_top=True, weights='imagenet', input_tensor=None, input_shape=None, pooling=None, classes=1000)\n"
      ]
    },
    {
      "cell_type": "code",
      "metadata": {
        "id": "Kwqvtz-EsBSi",
        "colab_type": "code",
        "outputId": "b34faac0-c406-4686-ce05-4d6460a8814a",
        "colab": {
          "base_uri": "https://localhost:8080/",
          "height": 1000
        }
      },
      "source": [
        "# USAGE\n",
        "# python train.py --dataset dataset\n",
        "\n",
        "# import the necessary packages\n",
        "from tensorflow.keras.preprocessing.image import ImageDataGenerator\n",
        "from tensorflow.keras.applications import VGG19\n",
        "from tensorflow.keras.layers import AveragePooling2D\n",
        "from tensorflow.keras.layers import Dropout\n",
        "from tensorflow.keras.layers import Flatten\n",
        "from tensorflow.keras.layers import Dense\n",
        "from tensorflow.keras.layers import Input\n",
        "from tensorflow.keras.models import Model\n",
        "from tensorflow.keras.optimizers import Adam\n",
        "from tensorflow.keras.utils import to_categorical\n",
        "from sklearn.preprocessing import LabelBinarizer\n",
        "from sklearn.model_selection import train_test_split\n",
        "from sklearn.metrics import classification_report\n",
        "from sklearn.metrics import confusion_matrix\n",
        "from imutils import paths\n",
        "import matplotlib.pyplot as plt\n",
        "import numpy as np\n",
        "import argparse\n",
        "import cv2\n",
        "import os\n",
        "\n",
        "# initialize the initial learning rate, number of epochs to train for,\n",
        "# and batch size\n",
        "INIT_LR = 1e-3\n",
        "EPOCHS = 25\n",
        "BS = 8\n",
        "\n",
        "# grab the list of images in our dataset directory, then initialize\n",
        "# the list of data (i.e., images) and class images\n",
        "print(\"[INFO] loading images...\")\n",
        "# imagePaths = list(paths.list_images(args[\"dataset\"]))\n",
        "imagePaths = list(paths.list_images(\"drive/My Drive/dataset\"))\n",
        "data = []\n",
        "labels = []\n",
        "\n",
        "# loop over the image paths\n",
        "for imagePath in imagePaths:\n",
        "\t# extract the class label from the filename\n",
        "\tlabel = imagePath.split(os.path.sep)[-2]\n",
        "\n",
        "\t# load the image, swap color channels, and resize it to be a fixed\n",
        "\t# 224x224 pixels while ignoring aspect ratio\n",
        "\timage = cv2.imread(imagePath)\n",
        "\timage = cv2.cvtColor(image, cv2.COLOR_BGR2RGB)\n",
        "\timage = cv2.resize(image, (224, 224))\n",
        "\n",
        "\t# update the data and labels lists, respectively\n",
        "\tdata.append(image)\n",
        "\tlabels.append(label)\n",
        "\n",
        "# convert the data and labels to NumPy arrays while scaling the pixel\n",
        "# intensities to the range [0, 255]\n",
        "data = np.array(data) / 255.0\n",
        "labels = np.array(labels)\n",
        "\n",
        "# perform one-hot encoding on the labels\n",
        "lb = LabelBinarizer()\n",
        "labels = lb.fit_transform(labels)\n",
        "labels = to_categorical(labels)\n",
        "\n",
        "# partition the data into training and testing splits using 80% of\n",
        "# the data for training and the remaining 20% for testing\n",
        "(trainX, testX, trainY, testY) = train_test_split(data, labels,\n",
        "\ttest_size=0.20, stratify=labels, random_state=42)\n",
        "\n",
        "# initialize the training data augmentation object\n",
        "trainAug = ImageDataGenerator(\n",
        "\trotation_range=15,\n",
        "\tfill_mode=\"nearest\")\n",
        "\n",
        "# load the VGG16 network, ensuring the head FC layer sets are left\n",
        "# off\n",
        "baseModel = VGG19(weights=\"imagenet\", include_top=False,\n",
        "\tinput_tensor=Input(shape=(224, 224, 3)))\n",
        "\n",
        "# construct the head of the model that will be placed on top of the\n",
        "# the base model\n",
        "headModel = baseModel.output\n",
        "headModel = AveragePooling2D(pool_size=(4, 4))(headModel)\n",
        "headModel = Flatten(name=\"flatten\")(headModel)\n",
        "headModel = Dense(64, activation=\"relu\")(headModel)\n",
        "headModel = Dropout(0.5)(headModel)\n",
        "headModel = Dense(2, activation=\"softmax\")(headModel)\n",
        "\n",
        "# place the head FC model on top of the base model (this will become\n",
        "# the actual model we will train)\n",
        "model = Model(inputs=baseModel.input, outputs=headModel)\n",
        "\n",
        "# loop over all layers in the base model and freeze them so they will\n",
        "# *not* be updated during the first training process\n",
        "for layer in baseModel.layers:\n",
        "\tlayer.trainable = False\n",
        "\n",
        "# compile our model\n",
        "print(\"[INFO] compiling model...\")\n",
        "opt = Adam(lr=INIT_LR, decay=INIT_LR / EPOCHS)\n",
        "model.compile(loss=\"binary_crossentropy\", optimizer=opt,\n",
        "\tmetrics=[\"accuracy\"])\n",
        "\n",
        "# train the head of the network\n",
        "print(\"[INFO] training head...\")\n",
        "H = model.fit_generator(\n",
        "\ttrainAug.flow(trainX, trainY, batch_size=BS),\n",
        "\tsteps_per_epoch=len(trainX) // BS,\n",
        "\tvalidation_data=(testX, testY),\n",
        "\tvalidation_steps=len(testX) // BS,\n",
        "\tepochs=EPOCHS)\n",
        "\n",
        "# make predictions on the testing set\n",
        "print(\"[INFO] evaluating network...\")\n",
        "predIdxs = model.predict(testX, batch_size=BS)\n",
        "\n",
        "# for each image in the testing set we need to find the index of the\n",
        "# label with corresponding largest predicted probability\n",
        "predIdxs = np.argmax(predIdxs, axis=1)\n",
        "\n",
        "# show a nicely formatted classification report\n",
        "print(classification_report(testY.argmax(axis=1), predIdxs,\n",
        "\ttarget_names=lb.classes_))\n",
        "\n",
        "# compute the confusion matrix and and use it to derive the raw\n",
        "# accuracy, sensitivity, and specificity\n",
        "cm = confusion_matrix(testY.argmax(axis=1), predIdxs)\n",
        "total = sum(sum(cm))\n",
        "acc = (cm[0, 0] + cm[1, 1]) / total\n",
        "sensitivity = cm[0, 0] / (cm[0, 0] + cm[0, 1])\n",
        "specificity = cm[1, 1] / (cm[1, 0] + cm[1, 1])\n",
        "\n",
        "# show the confusion matrix, accuracy, sensitivity, and specificity\n",
        "print(cm)\n",
        "print(\"acc: {:.4f}\".format(acc))\n",
        "print(\"sensitivity: {:.4f}\".format(sensitivity))\n",
        "print(\"specificity: {:.4f}\".format(specificity))\n",
        "\n",
        "# plot the training loss and accuracy\n",
        "N = EPOCHS\n",
        "plt.style.use(\"ggplot\")\n",
        "plt.figure()\n",
        "plt.plot(np.arange(0, N), H.history[\"loss\"], label=\"train_loss\")\n",
        "plt.plot(np.arange(0, N), H.history[\"val_loss\"], label=\"val_loss\")\n",
        "plt.plot(np.arange(0, N), H.history[\"accuracy\"], label=\"train_acc\")\n",
        "plt.plot(np.arange(0, N), H.history[\"val_accuracy\"], label=\"val_acc\")\n",
        "plt.title(\"Training Loss and Accuracy on COVID-19 Dataset\")\n",
        "plt.xlabel(\"Epoch #\")\n",
        "plt.ylabel(\"Loss/Accuracy\")\n",
        "plt.legend(loc=\"lower left\")\n",
        "# plt.savefig(args[\"plot\"])\n",
        "\n",
        "# serialize the model to disk\n",
        "print(\"[INFO] saving COVID-19 detector model...\")\n",
        "# model.save(args[\"model\"], save_format=\"h5\")"
      ],
      "execution_count": 0,
      "outputs": [
        {
          "output_type": "stream",
          "text": [
            "[INFO] loading images...\n",
            "Downloading data from https://storage.googleapis.com/tensorflow/keras-applications/vgg19/vgg19_weights_tf_dim_ordering_tf_kernels_notop.h5\n",
            "80142336/80134624 [==============================] - 1s 0us/step\n",
            "[INFO] compiling model...\n",
            "[INFO] training head...\n",
            "Epoch 1/25\n",
            "5/5 [==============================] - 27s 5s/step - loss: 0.7007 - accuracy: 0.6250 - val_loss: 0.6875 - val_accuracy: 0.5000\n",
            "Epoch 2/25\n",
            "5/5 [==============================] - 26s 5s/step - loss: 0.7705 - accuracy: 0.5750 - val_loss: 0.6801 - val_accuracy: 0.5000\n",
            "Epoch 3/25\n",
            "5/5 [==============================] - 27s 5s/step - loss: 0.6444 - accuracy: 0.5750 - val_loss: 0.6651 - val_accuracy: 0.8000\n",
            "Epoch 4/25\n",
            "5/5 [==============================] - 26s 5s/step - loss: 0.7342 - accuracy: 0.4500 - val_loss: 0.6649 - val_accuracy: 0.5000\n",
            "Epoch 5/25\n",
            "5/5 [==============================] - 27s 5s/step - loss: 0.7257 - accuracy: 0.5250 - val_loss: 0.6480 - val_accuracy: 0.6000\n",
            "Epoch 6/25\n",
            "5/5 [==============================] - 26s 5s/step - loss: 0.6810 - accuracy: 0.5750 - val_loss: 0.6397 - val_accuracy: 0.8000\n",
            "Epoch 7/25\n",
            "5/5 [==============================] - 26s 5s/step - loss: 0.6966 - accuracy: 0.5750 - val_loss: 0.6360 - val_accuracy: 0.9000\n",
            "Epoch 8/25\n",
            "5/5 [==============================] - 26s 5s/step - loss: 0.6664 - accuracy: 0.5500 - val_loss: 0.6251 - val_accuracy: 0.8000\n",
            "Epoch 9/25\n",
            "5/5 [==============================] - 26s 5s/step - loss: 0.6121 - accuracy: 0.6750 - val_loss: 0.6128 - val_accuracy: 0.7000\n",
            "Epoch 10/25\n",
            "5/5 [==============================] - 27s 5s/step - loss: 0.6789 - accuracy: 0.5250 - val_loss: 0.6014 - val_accuracy: 0.8000\n",
            "Epoch 11/25\n",
            "5/5 [==============================] - 26s 5s/step - loss: 0.6419 - accuracy: 0.7000 - val_loss: 0.5979 - val_accuracy: 0.9000\n",
            "Epoch 12/25\n",
            "5/5 [==============================] - 26s 5s/step - loss: 0.6352 - accuracy: 0.6250 - val_loss: 0.5880 - val_accuracy: 0.8000\n",
            "Epoch 13/25\n",
            "5/5 [==============================] - 26s 5s/step - loss: 0.5867 - accuracy: 0.7500 - val_loss: 0.5783 - val_accuracy: 0.8000\n",
            "Epoch 14/25\n",
            "5/5 [==============================] - 27s 5s/step - loss: 0.6249 - accuracy: 0.6500 - val_loss: 0.5700 - val_accuracy: 0.8000\n",
            "Epoch 15/25\n",
            "5/5 [==============================] - 27s 5s/step - loss: 0.5902 - accuracy: 0.7000 - val_loss: 0.5610 - val_accuracy: 0.8000\n",
            "Epoch 16/25\n",
            "5/5 [==============================] - 27s 5s/step - loss: 0.5750 - accuracy: 0.7500 - val_loss: 0.5542 - val_accuracy: 0.8000\n",
            "Epoch 17/25\n",
            "5/5 [==============================] - 26s 5s/step - loss: 0.5418 - accuracy: 0.8500 - val_loss: 0.5450 - val_accuracy: 0.9000\n",
            "Epoch 18/25\n",
            "5/5 [==============================] - 26s 5s/step - loss: 0.5668 - accuracy: 0.7750 - val_loss: 0.5464 - val_accuracy: 0.9000\n",
            "Epoch 19/25\n",
            "5/5 [==============================] - 26s 5s/step - loss: 0.5858 - accuracy: 0.6750 - val_loss: 0.5313 - val_accuracy: 0.9000\n",
            "Epoch 20/25\n",
            "5/5 [==============================] - 26s 5s/step - loss: 0.5734 - accuracy: 0.7750 - val_loss: 0.5202 - val_accuracy: 0.8000\n",
            "Epoch 21/25\n",
            "5/5 [==============================] - 26s 5s/step - loss: 0.5580 - accuracy: 0.7750 - val_loss: 0.5101 - val_accuracy: 0.8000\n",
            "Epoch 22/25\n",
            "5/5 [==============================] - 27s 5s/step - loss: 0.5580 - accuracy: 0.7500 - val_loss: 0.5015 - val_accuracy: 0.9000\n",
            "Epoch 23/25\n",
            "5/5 [==============================] - 26s 5s/step - loss: 0.5356 - accuracy: 0.8000 - val_loss: 0.4968 - val_accuracy: 0.9000\n",
            "Epoch 24/25\n",
            "5/5 [==============================] - 26s 5s/step - loss: 0.5023 - accuracy: 0.8750 - val_loss: 0.4937 - val_accuracy: 0.8000\n",
            "Epoch 25/25\n",
            "5/5 [==============================] - 26s 5s/step - loss: 0.4904 - accuracy: 0.8500 - val_loss: 0.4848 - val_accuracy: 0.9000\n",
            "[INFO] evaluating network...\n",
            "              precision    recall  f1-score   support\n",
            "\n",
            "       covid       0.83      1.00      0.91         5\n",
            "      normal       1.00      0.80      0.89         5\n",
            "\n",
            "    accuracy                           0.90        10\n",
            "   macro avg       0.92      0.90      0.90        10\n",
            "weighted avg       0.92      0.90      0.90        10\n",
            "\n",
            "[[5 0]\n",
            " [1 4]]\n",
            "acc: 0.9000\n",
            "sensitivity: 1.0000\n",
            "specificity: 0.8000\n",
            "[INFO] saving COVID-19 detector model...\n"
          ],
          "name": "stdout"
        },
        {
          "output_type": "display_data",
          "data": {
            "image/png": "[encoded data removed]",
            "text/plain": [
              "<Figure size 432x288 with 1 Axes>"
            ]
          },
          "metadata": {
            "tags": []
          }
        }
      ]
    },
    {
      "cell_type": "markdown",
      "metadata": {
        "id": "O6KHujgTynDw",
        "colab_type": "text"
      },
      "source": [
        "Saving model in .h5 format for further use."
      ]
    },
    {
      "cell_type": "code",
      "metadata": {
        "id": "IovvAipis_nw",
        "colab_type": "code",
        "colab": {}
      },
      "source": [
        "model.save(\"drive/My Drive/dataset/md_19\", save_format=\"h5\")"
      ],
      "execution_count": 0,
      "outputs": []
    },
    {
      "cell_type": "code",
      "metadata": {
        "id": "TNT-4xrSwepi",
        "colab_type": "code",
        "colab": {}
      },
      "source": [
        ""
      ],
      "execution_count": 0,
      "outputs": []
    },
    {
      "cell_type": "markdown",
      "metadata": {
        "id": "FUnz3AE7y30p",
        "colab_type": "text"
      },
      "source": [
        "**Results** \n",
        "1. Accuracy: 0.9000\n",
        "2. Sensitivity: 1.0000\n",
        "3. Specificity: 0.8000"
      ]
    }
  ]
}